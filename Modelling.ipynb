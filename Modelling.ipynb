{
  "metadata": {
    "kernelspec": {
      "name": "python",
      "display_name": "Python (Pyodide)",
      "language": "python"
    },
    "language_info": {
      "codemirror_mode": {
        "name": "python",
        "version": 3
      },
      "file_extension": ".py",
      "mimetype": "text/x-python",
      "name": "python",
      "nbconvert_exporter": "python",
      "pygments_lexer": "ipython3",
      "version": "3.8"
    }
  },
  "nbformat_minor": 5,
  "nbformat": 4,
  "cells": [
    {
      "id": "fb9c1eea-c180-426f-b4e0-56113d5b6862",
      "cell_type": "markdown",
      "source": "# Modeling Experiments\nThis notebook runs multiple models and compares CV performance.\n\nModels included: RandomForest, ExtraTrees, XGBoost, LightGBM, CatBoost (if installed)\n",
      "metadata": {}
    },
    {
      "id": "9ea7e92d-1cf4-4633-990f-b764533595d1",
      "cell_type": "code",
      "source": "import pandas as pd\nfrom sklearn.ensemble import RandomForestRegressor, ExtraTreesRegressor\nfrom sklearn.model_selection import GroupKFold\nfrom scripts.evaluate_cv import groupkfold_rmse\n\n# Load processed features (run preprocess.py first)\nX = pd.read_csv('/mnt/data/processed/train_features.csv')\nprint(X.shape)\n",
      "metadata": {
        "trusted": true
      },
      "outputs": [],
      "execution_count": null
    },
    {
      "id": "5358296b-666d-447f-8608-de010fcd19a6",
      "cell_type": "code",
      "source": "# Example: RandomForest baseline\nfrom sklearn.ensemble import RandomForestRegressor\nmodel = RandomForestRegressor(n_estimators=200, n_jobs=-1, random_state=42)\n# groups = pd.read_csv('/mnt/data/train_data.csv')['Outlet_Identifier']\n# mean_rmse, std_rmse = groupkfold_rmse(model, X.drop(columns=['Item_Outlet_Sales']), X['Item_Outlet_Sales'], groups)\n# print('RF GroupKFold RMSE:', mean_rmse)\n",
      "metadata": {
        "trusted": true
      },
      "outputs": [],
      "execution_count": null
    }
  ]
}