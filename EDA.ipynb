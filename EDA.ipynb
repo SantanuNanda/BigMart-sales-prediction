{
  "metadata": {
    "kernelspec": {
      "name": "python",
      "display_name": "Python (Pyodide)",
      "language": "python"
    },
    "language_info": {
      "codemirror_mode": {
        "name": "python",
        "version": 3
      },
      "file_extension": ".py",
      "mimetype": "text/x-python",
      "name": "python",
      "nbconvert_exporter": "python",
      "pygments_lexer": "ipython3",
      "version": "3.8"
    }
  },
  "nbformat_minor": 5,
  "nbformat": 4,
  "cells": [
    {
      "id": "42de3001-40cd-41cb-8661-c1c70a98fd10",
      "cell_type": "markdown",
      "source": "# EDA and Feature Engineering\nThis notebook contains EDA steps and rationale for the features created.",
      "metadata": {}
    },
    {
      "id": "16b52bc6-17ad-4e04-87d4-1b7391e3240e",
      "cell_type": "code",
      "source": "import pandas as pd\nimport matplotlib.pyplot as plt\nimport seaborn as sns\n\ntrain = pd.read_csv('train_data.csv')\ntest = pd.read_csv('test_data.csv')\ntrain.head()\n",
      "metadata": {
        "trusted": true
      },
      "outputs": [
        {
          "name": "stderr",
          "output_type": "stream",
          "text": "Matplotlib is building the font cache; this may take a moment.\n"
        },
        {
          "ename": "<class 'ModuleNotFoundError'>",
          "evalue": "No module named 'seaborn'",
          "traceback": [
            "\u001b[0;31m---------------------------------------------------------------------------\u001b[0m",
            "\u001b[0;31mModuleNotFoundError\u001b[0m                       Traceback (most recent call last)",
            "Cell \u001b[0;32mIn[2], line 3\u001b[0m\n\u001b[1;32m      1\u001b[0m \u001b[38;5;28;01mimport\u001b[39;00m \u001b[38;5;21;01mpandas\u001b[39;00m \u001b[38;5;28;01mas\u001b[39;00m \u001b[38;5;21;01mpd\u001b[39;00m\n\u001b[1;32m      2\u001b[0m \u001b[38;5;28;01mimport\u001b[39;00m \u001b[38;5;21;01mmatplotlib\u001b[39;00m\u001b[38;5;21;01m.\u001b[39;00m\u001b[38;5;21;01mpyplot\u001b[39;00m \u001b[38;5;28;01mas\u001b[39;00m \u001b[38;5;21;01mplt\u001b[39;00m\n\u001b[0;32m----> 3\u001b[0m \u001b[38;5;28;01mimport\u001b[39;00m \u001b[38;5;21;01mseaborn\u001b[39;00m \u001b[38;5;28;01mas\u001b[39;00m \u001b[38;5;21;01msns\u001b[39;00m\n\u001b[1;32m      5\u001b[0m train \u001b[38;5;241m=\u001b[39m pd\u001b[38;5;241m.\u001b[39mread_csv(\u001b[38;5;124m'\u001b[39m\u001b[38;5;124m/mnt/data/train_data.csv\u001b[39m\u001b[38;5;124m'\u001b[39m)\n\u001b[1;32m      6\u001b[0m test \u001b[38;5;241m=\u001b[39m pd\u001b[38;5;241m.\u001b[39mread_csv(\u001b[38;5;124m'\u001b[39m\u001b[38;5;124m/mnt/data/test_data.csv\u001b[39m\u001b[38;5;124m'\u001b[39m)\n",
            "\u001b[0;31mModuleNotFoundError\u001b[0m: No module named 'seaborn'"
          ],
          "output_type": "error"
        }
      ],
      "execution_count": 2
    },
    {
      "id": "3a7533ca-00d1-48f2-9b15-73c899051a77",
      "cell_type": "code",
      "source": "# Missing values\nprint(train.isna().sum())\n\n# Distribution of target\nimport numpy as np\nprint('Target skew:', train['Item_Outlet_Sales'].skew())\nplt.hist(train['Item_Outlet_Sales'], bins=50)\nplt.title('Item_Outlet_Sales distribution')\nplt.show()\n",
      "metadata": {
        "trusted": true
      },
      "outputs": [],
      "execution_count": null
    },
    {
      "id": "c9d170d8-7958-43b5-8e90-96dc782e1840",
      "cell_type": "code",
      "source": "# Item MRP distribution\nplt.hist(train['Item_MRP'], bins=50)\nplt.title('Item_MRP distribution')\nplt.show()\n\n# Item visibility\nplt.hist(train['Item_Visibility'], bins=50)\nplt.title('Item_Visibility distribution')\nplt.show()\n",
      "metadata": {
        "trusted": true
      },
      "outputs": [],
      "execution_count": null
    },
    {
      "id": "79a8aeb0-07af-4bf8-b13e-15bdfba10313",
      "cell_type": "markdown",
      "source": "## Feature engineering rationale\n- Impute `Item_Weight` by item median because same items have consistent weight.\n- Replace zero `Item_Visibility` with item-level or global median — zeros are likely missing.\n- Aggregate features (item/outlet means) capture historical popularity and repeat-buy behaviour.\n- Price per weight and interactions capture price sensitivity and outlet age effects.\n",
      "metadata": {}
    }
  ]
}