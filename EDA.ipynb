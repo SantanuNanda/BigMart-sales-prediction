{
  "metadata": {
    "kernelspec": {
      "name": "xpython",
      "display_name": "Python 3.13 (XPython)",
      "language": "python"
    },
    "language_info": {
      "file_extension": ".py",
      "mimetype": "text/x-python",
      "name": "python",
      "version": "3.13.1"
    }
  },
  "nbformat_minor": 5,
  "nbformat": 4,
  "cells": [
    {
      "id": "42de3001-40cd-41cb-8661-c1c70a98fd10",
      "cell_type": "markdown",
      "source": "# EDA and Feature Engineering\nThis notebook contains EDA steps and rationale for the features created.",
      "metadata": {}
    },
    {
      "id": "83597162-9065-425e-85d4-0231c8c331a9",
      "cell_type": "code",
      "source": "import pandas as pd\nimport matplotlib.pyplot as plt\nimport seaborn as sns\n\ntrain = pd.read_csv('train_data.csv')\ntest = pd.read_csv('test_data.csv')\ntrain.head()\n",
      "metadata": {
        "trusted": true
      },
      "outputs": [],
      "execution_count": null
    },
    {
      "id": "3a7533ca-00d1-48f2-9b15-73c899051a77",
      "cell_type": "code",
      "source": "# Missing values\nprint(train.isna().sum())\n\n# Distribution of target\nimport numpy as np\nprint('Target skew:', train['Item_Outlet_Sales'].skew())\nplt.hist(train['Item_Outlet_Sales'], bins=50)\nplt.title('Item_Outlet_Sales distribution')\nplt.show()\n",
      "metadata": {
        "trusted": true
      },
      "outputs": [],
      "execution_count": null
    },
    {
      "id": "c9d170d8-7958-43b5-8e90-96dc782e1840",
      "cell_type": "code",
      "source": "# Item MRP distribution\nplt.hist(train['Item_MRP'], bins=50)\nplt.title('Item_MRP distribution')\nplt.show()\n\n# Item visibility\nplt.hist(train['Item_Visibility'], bins=50)\nplt.title('Item_Visibility distribution')\nplt.show()\n",
      "metadata": {
        "trusted": true
      },
      "outputs": [],
      "execution_count": null
    },
    {
      "id": "79a8aeb0-07af-4bf8-b13e-15bdfba10313",
      "cell_type": "markdown",
      "source": "## Feature engineering rationale\n- Impute `Item_Weight` by item median because same items have consistent weight.\n- Replace zero `Item_Visibility` with item-level or global median — zeros are likely missing.\n- Aggregate features (item/outlet means) capture historical popularity and repeat-buy behaviour.\n- Price per weight and interactions capture price sensitivity and outlet age effects.\n",
      "metadata": {}
    }
  ]
}